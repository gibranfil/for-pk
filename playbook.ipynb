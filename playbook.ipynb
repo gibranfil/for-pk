{
 "cells": [
  {
   "cell_type": "code",
   "execution_count": null,
   "metadata": {},
   "outputs": [],
   "source": [
    "from face_crop_plus import Cropper\n",
    "\n",
    "cropper = Cropper(face_factor=0.6, strategy=\"largest\", \n",
    "                  padding = 'replicate', output_size=700)\n",
    "cropper.process_dir (input_dir='/home/gibran/project/image-script/input_images')"
   ]
  },
  {
   "cell_type": "code",
   "execution_count": null,
   "metadata": {},
   "outputs": [],
   "source": [
    "from backgroundremover.bg import remove\n",
    "from PIL import Image\n"
   ]
  },
  {
   "cell_type": "code",
   "execution_count": null,
   "metadata": {},
   "outputs": [],
   "source": [
    "def remove_bg(src_img_path, out_img_path):\n",
    "    f = open(src_img_path, \"rb\")\n",
    "    model_choices = [\"u2net\", \"u2net_human_seg\", \"u2netp\"]\n",
    "    data = f.read()\n",
    "    img = remove(data, model_name=model_choices[0],\n",
    "                 alpha_matting=True,\n",
    "                 alpha_matting_foreground_threshold=140,\n",
    "                 alpha_matting_background_threshold=10,\n",
    "                 alpha_matting_erode_structure_size=10,\n",
    "                 alpha_matting_base_size=1000)\n",
    "    f.close()\n",
    "    f = open(out_img_path, \"wb\")\n",
    "    f.write(img)\n",
    "    f.close()"
   ]
  },
  {
   "cell_type": "code",
   "execution_count": null,
   "metadata": {},
   "outputs": [],
   "source": [
    "test = remove_bg ('/run/media/gibran/Expansion/Document/pasphoto ok.jpg', 'test/gambar.png')"
   ]
  },
  {
   "cell_type": "code",
   "execution_count": 15,
   "metadata": {},
   "outputs": [
    {
     "ename": "TypeError",
     "evalue": "'dict' object is not callable",
     "output_type": "error",
     "traceback": [
      "\u001b[0;31m---------------------------------------------------------------------------\u001b[0m",
      "\u001b[0;31mTypeError\u001b[0m                                 Traceback (most recent call last)",
      "Cell \u001b[0;32mIn[15], line 8\u001b[0m\n\u001b[1;32m      5\u001b[0m \u001b[38;5;28;01mfrom\u001b[39;00m \u001b[38;5;21;01msrc\u001b[39;00m\u001b[38;5;21;01m.\u001b[39;00m\u001b[38;5;21;01mcombiner\u001b[39;00m\u001b[38;5;21;01m.\u001b[39;00m\u001b[38;5;21;01mgenerate_text\u001b[39;00m \u001b[38;5;28;01mimport\u001b[39;00m generate_text\n\u001b[1;32m      7\u001b[0m img \u001b[38;5;241m=\u001b[39m Image\u001b[38;5;241m.\u001b[39mopen(\u001b[38;5;124m\"\u001b[39m\u001b[38;5;124m/home/gibran/project/image-script/asset/nametag.png\u001b[39m\u001b[38;5;124m\"\u001b[39m)\n\u001b[0;32m----> 8\u001b[0m img \u001b[38;5;241m=\u001b[39m \u001b[43mgenerate_text\u001b[49m\u001b[43m \u001b[49m\u001b[43m(\u001b[49m\u001b[43mimage\u001b[49m\u001b[43m \u001b[49m\u001b[38;5;241;43m=\u001b[39;49m\u001b[43m \u001b[49m\u001b[43mimg\u001b[49m\u001b[43m,\u001b[49m\u001b[43m \u001b[49m\u001b[43mfont\u001b[49m\u001b[43m \u001b[49m\u001b[38;5;241;43m=\u001b[39;49m\u001b[43m \u001b[49m\u001b[38;5;124;43m'\u001b[39;49m\u001b[38;5;124;43mff\u001b[39;49m\u001b[38;5;124;43m'\u001b[39;49m\u001b[43m,\u001b[49m\n\u001b[1;32m      9\u001b[0m \u001b[43m                     \u001b[49m\u001b[43mtext\u001b[49m\u001b[38;5;241;43m=\u001b[39;49m\u001b[38;5;124;43m'\u001b[39;49m\u001b[38;5;124;43mGG\u001b[39;49m\u001b[38;5;124;43m'\u001b[39;49m\u001b[43m,\u001b[49m\u001b[43msize\u001b[49m\u001b[38;5;241;43m=\u001b[39;49m\u001b[43m \u001b[49m\u001b[38;5;241;43m55\u001b[39;49m\u001b[43m,\u001b[49m\u001b[43m \u001b[49m\u001b[43mcolor\u001b[49m\u001b[38;5;241;43m=\u001b[39;49m\u001b[43m(\u001b[49m\u001b[38;5;241;43m0\u001b[39;49m\u001b[43m,\u001b[49m\u001b[38;5;241;43m0\u001b[39;49m\u001b[43m,\u001b[49m\u001b[38;5;241;43m225\u001b[39;49m\u001b[43m)\u001b[49m\u001b[43m,\u001b[49m\u001b[43mposition\u001b[49m\u001b[38;5;241;43m=\u001b[39;49m\u001b[43m(\u001b[49m\u001b[38;5;241;43m55\u001b[39;49m\u001b[43m,\u001b[49m\u001b[38;5;241;43m55\u001b[39;49m\u001b[43m)\u001b[49m\u001b[43m \u001b[49m\u001b[43m)\u001b[49m\n\u001b[1;32m     10\u001b[0m \u001b[38;5;66;03m# Save the edited image\u001b[39;00m\n\u001b[1;32m     11\u001b[0m img\u001b[38;5;241m.\u001b[39msave(\u001b[38;5;124m\"\u001b[39m\u001b[38;5;124mcar2.png\u001b[39m\u001b[38;5;124m\"\u001b[39m)\n",
      "File \u001b[0;32m~/project/image-script/src/combiner/generate_text.py:10\u001b[0m, in \u001b[0;36mgenerate_text\u001b[0;34m(image, text, position, size, font, color)\u001b[0m\n\u001b[1;32m      8\u001b[0m \u001b[38;5;66;03m# Add Text to an image\u001b[39;00m\n\u001b[1;32m      9\u001b[0m myFont \u001b[38;5;241m=\u001b[39m ImageFont\u001b[38;5;241m.\u001b[39mtruetype(font, size)\n\u001b[0;32m---> 10\u001b[0m image\u001b[38;5;241m.\u001b[39mtext(position, text, fill\u001b[38;5;241m=\u001b[39mcolor)\n\u001b[1;32m     12\u001b[0m \u001b[38;5;28;01mreturn\u001b[39;00m image\n",
      "\u001b[0;31mTypeError\u001b[0m: 'dict' object is not callable"
     ]
    }
   ],
   "source": [
    "from PIL import Image\n",
    "from PIL import ImageFont\n",
    "from PIL import ImageDraw\n",
    "\n",
    "from src.combiner.generate_text import generate_text\n",
    "\n",
    "img = Image.open(\"/home/gibran/project/image-script/asset/nametag.png\")\n",
    "img = generate_text (image = img, font = 'ff',\n",
    "                     text='GG',size= 55, color=(0,0,225),position=(55,55) )\n",
    "# Save the edited image\n",
    "img.save(\"car2.png\")"
   ]
  },
  {
   "cell_type": "code",
   "execution_count": null,
   "metadata": {},
   "outputs": [],
   "source": [
    "ImageDraw.Draw(test).text()"
   ]
  },
  {
   "cell_type": "code",
   "execution_count": 20,
   "metadata": {},
   "outputs": [],
   "source": [
    "from pathlib import Path\n",
    "text = \"Ketua Angkatan_Figo Maulana Said.jpg\"\n",
    "\n",
    "\n",
    "text = Path(text).stem\n",
    "text = text.split(\"_\")"
   ]
  },
  {
   "cell_type": "code",
   "execution_count": 6,
   "metadata": {},
   "outputs": [
    {
     "name": "stderr",
     "output_type": "stream",
     "text": [
      "/tmp/ipykernel_45765/635443391.py:7: DeprecationWarning: getsize is deprecated and will be removed in Pillow 10 (2023-07-01). Use getbbox or getlength instead.\n",
      "  font_height = font.getsize(\"A\")[1]\n"
     ]
    }
   ],
   "source": [
    "from PIL import ImageFont\n",
    "\n",
    "font_path = \"/home/gibran/project/image-script/asset/CaskaydiaMonoNerdFont-Bold.ttf\"\n",
    "font_size = 24\n",
    "\n",
    "font = ImageFont.truetype(font_path, font_size)\n",
    "font_height = font.getsize(\"A\")[1]"
   ]
  },
  {
   "cell_type": "code",
   "execution_count": 8,
   "metadata": {},
   "outputs": [],
   "source": [
    "from PIL import Image, ImageDraw, ImageFont\n",
    "\n",
    "\n",
    "def create_image(size, bgColor, message, font, fontColor):\n",
    "    W, H = size\n",
    "    image = Image.new('RGB', size, bgColor)\n",
    "    draw = ImageDraw.Draw(image)\n",
    "    _, _, w, h = draw.textbbox((0, 0), message, font=font)\n",
    "    draw.text(((W-w)/2, (H-h)/2), message, font=font, fill=fontColor)\n",
    "    return image"
   ]
  },
  {
   "cell_type": "code",
   "execution_count": 10,
   "metadata": {},
   "outputs": [],
   "source": [
    "myFont = ImageFont.truetype('/home/gibran/project/image-script/asset/CaskaydiaMonoNerdFont-Bold.ttf', 16)\n",
    "myMessage = 'Hello World'\n",
    "myImage = create_image((300, 200), 'yellow', myMessage, myFont, 'black')\n",
    "myImage.save('hello_world.png', \"PNG\")"
   ]
  },
  {
   "cell_type": "code",
   "execution_count": 22,
   "metadata": {},
   "outputs": [
    {
     "name": "stdout",
     "output_type": "stream",
     "text": [
      "3\n"
     ]
    }
   ],
   "source": [
    "print (len(text))"
   ]
  },
  {
   "cell_type": "code",
   "execution_count": null,
   "metadata": {},
   "outputs": [],
   "source": [
    "#https://github.com/xinntao/Real-ESRGAN?tab=readme-ov-file#-dependencies-and-installation"
   ]
  }
 ],
 "metadata": {
  "kernelspec": {
   "display_name": "image-crop",
   "language": "python",
   "name": "python3"
  },
  "language_info": {
   "codemirror_mode": {
    "name": "ipython",
    "version": 3
   },
   "file_extension": ".py",
   "mimetype": "text/x-python",
   "name": "python",
   "nbconvert_exporter": "python",
   "pygments_lexer": "ipython3",
   "version": "3.10.14"
  }
 },
 "nbformat": 4,
 "nbformat_minor": 2
}
